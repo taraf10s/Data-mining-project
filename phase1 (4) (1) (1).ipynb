{
  "metadata": {
    "kernelspec": {
      "name": "python",
      "display_name": "Python (Pyodide)",
      "language": "python"
    },
    "language_info": {
      "codemirror_mode": {
        "name": "python",
        "version": 3
      },
      "file_extension": ".py",
      "mimetype": "text/x-python",
      "name": "python",
      "nbconvert_exporter": "python",
      "pygments_lexer": "ipython3",
      "version": "3.8"
    }
  },
  "nbformat_minor": 4,
  "nbformat": 4,
  "cells": [
    {
      "cell_type": "markdown",
      "source": "# Diabetes stage detection",
      "metadata": {}
    },
    {
      "cell_type": "markdown",
      "source": "## Goal :\nOur goal for this project is to develop a model that identifies diabetes risk by analyzing relevant health metrics.We chose this dataset for clarification and clustering, We aim to categorize individuals based on diagnostic results and compare these measurements to facilitate timely intervention. This will be achieved by training the model to predict whether an individual is the patient's diabetes disease class may be Diabetic, Non-Diabetic, or Predict-Diabetic.\n\nAdditionally, we seek to identify key predictors of diabetes to support the development of tailored prevention and treatment strategies",
      "metadata": {}
    },
    {
      "cell_type": "markdown",
      "source": "## motivations :\nWe chose diabetes dataset due to its significant global impact and the need to better understand the disease. Diabetes affects millions worldwide, making it a crucial area of study in order to help improve early detection and patient care. We chose our dataset for classification and clustering.",
      "metadata": {}
    },
    {
      "cell_type": "markdown",
      "source": "## Data source :\nThe source of our dataset coming from this link: https://www.kaggle.com/datasets/aravindpcoder/diabetes-dataset.",
      "metadata": {}
    },
    {
      "cell_type": "markdown",
      "source": "## Information about the  Dataset :\nIn our dataset, we provide detailed information on the types of attributes for each of the 14 columns, By clearly defining the type of each attribute, we ensure a comprehensive understanding of the data structure. This clarity is instrumental in facilitating more effective and efficient analysis, allowing for better insights and informed decision-making based on the data.\n\n1.Number of the attributes(columns): 14.\n\n2.Number of the objects(raws):1000\n\n3.The Class label: The patient's diabetes disease class may be Diabetic, Non-Diabetic, or Predict-Diabetic.\n\n4.The Attributes type at the table below:\n",
      "metadata": {}
    },
    {
      "cell_type": "code",
      "source": "%%html\n<table style=\"border:1;\">\n  <thead>\n    <tr>\n      <th>No</th>\n      <th>Name</th>\n      <th>Type</th>\n    </tr>\n  </thead>\n  <tbody>\n    <tr>\n      <td>1</td>\n      <td>ID</td>\n      <td>Nominal and Integer</td>\n    </tr>\n    <tr>\n      <td>2</td>\n      <td>No_Pation</td>\n      <td> Numeric and Integer</td>\n    </tr>\n    <tr>\n      <td>3</td>\n      <td>Gender</td>\n      <td>Binary</td>\n    </tr>\n    <tr>\n      <td>4</td>\n      <td>AGE</td>\n      <td>Numeric and Integer</td>\n    </tr>\n    <tr>\n      <td>5</td>\n      <td>Urea</td>\n      <td>Numeric and Float</td>\n    </tr>\n    <tr>\n      <td>6</td>\n      <td>Cr</td>\n      <td>Numeric and Integer</td>\n    </tr>\n    <tr>\n      <td>7</td>\n      <td>HbA1c </td>\n      <td>Numeric and float</td>\n    </tr>\n    <tr>\n      <td>8</td>\n      <td>Chol</td>\n      <td>Numeric and float</td>\n    </tr>\n    <tr>\n      <td>9</td>\n      <td>TG</td>\n    <td> Numeric and float</td>\n    </tr>\n    <tr>\n      <td>10</td>\n      <td>HDL</td>\n      <td>Numeric and float</td>\n    </tr>\n    <tr>\n      <td>11</td>\n      <td>LDL</td>\n      <td>Numeric and float</td>\n    </tr>\n    <tr>\n      <td>12</td>\n      <td>VLDL</td>\n     <td>Numeric and float</td>\n    </tr>\n    <tr>\n      <td>13</td>\n      <td>BMI</td>\n      <td>Numeric and Integer</td>\n    </tr>\n    <tr>\n      <td>14</td>\n      <td>CLASS</td>\n      <td>Ordinal</td>\n    </tr>\n  </tbody>\n</table>",
      "metadata": {
        "trusted": true
      },
      "outputs": [],
      "execution_count": null
    },
    {
      "cell_type": "code",
      "source": "import pandas as pd ",
      "metadata": {
        "trusted": true
      },
      "outputs": [],
      "execution_count": null
    },
    {
      "cell_type": "code",
      "source": "dataDiabetes = pd.read_csv('Dataset/Diabetes.csv')\ndf=pd.DataFrame(dataDiabetes)",
      "metadata": {
        "trusted": true
      },
      "outputs": [],
      "execution_count": null
    },
    {
      "cell_type": "code",
      "source": "#print number of the rows :\nprint('The number of the rows (attributes):')\nrows=df.shape[0]\nprint(rows)",
      "metadata": {
        "trusted": true
      },
      "outputs": [],
      "execution_count": null
    },
    {
      "cell_type": "code",
      "source": "#print the number of the columns\nprint('The number of the columns (objects):')\ncolumns=df.shape[1]\nprint(columns)",
      "metadata": {
        "trusted": true
      },
      "outputs": [],
      "execution_count": null
    },
    {
      "cell_type": "code",
      "source": "#print information by code\nprint('Information about dataset:')\nprint(df.info)",
      "metadata": {
        "trusted": true
      },
      "outputs": [],
      "execution_count": null
    },
    {
      "cell_type": "code",
      "source": "# Save the data frame as a csv file\ndf.to_csv(\"DataFrame.csv\") ",
      "metadata": {
        "trusted": true
      },
      "outputs": [],
      "execution_count": null
    },
    {
      "cell_type": "code",
      "source": "",
      "metadata": {
        "trusted": true
      },
      "outputs": [],
      "execution_count": null
    },
    {
      "cell_type": "code",
      "source": "",
      "metadata": {
        "trusted": true
      },
      "outputs": [],
      "execution_count": null
    }
  ]
}