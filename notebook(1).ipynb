{
  "metadata": {
    "kernelspec": {
      "name": "python",
      "display_name": "Python (Pyodide)",
      "language": "python"
    },
    "language_info": {
      "codemirror_mode": {
        "name": "python",
        "version": 3
      },
      "file_extension": ".py",
      "mimetype": "text/x-python",
      "name": "python",
      "nbconvert_exporter": "python",
      "pygments_lexer": "ipython3",
      "version": "3.8"
    }
  },
  "nbformat_minor": 4,
  "nbformat": 4,
  "cells": [
    {
      "cell_type": "markdown",
      "source": "# Diabetes stage detection",
      "metadata": {}
    },
    {
      "cell_type": "markdown",
      "source": "## Goal :\nOur goal for this project is to develop a model that identifies diabetes risk by analyzing relevant health metrics.We chose this dataset for clarification and clustering, We aim to categorize individuals based on diagnostic results and compare these measurements to facilitate timely intervention. This will be achieved by training the model to predict whether an individual is the patient's diabetes disease class may be Diabetic, Non-Diabetic, or Predict-Diabetic.\n\nAdditionally, we seek to identify key predictors of diabetes to support the development of tailored prevention and treatment strategies",
      "metadata": {}
    },
    {
      "cell_type": "markdown",
      "source": "## motivations :\nWe chose diabetes dataset due to its significant global impact and the need to better understand the disease. Diabetes affects millions worldwide, making it a crucial area of study in order to help improve early detection and patient care. We chose our dataset for classification and clustering.",
      "metadata": {}
    },
    {
      "cell_type": "markdown",
      "source": "## Data source :\nThe source of our dataset coming from this link: https://www.kaggle.com/datasets/aravindpcoder/diabetes-dataset.",
      "metadata": {}
    },
    {
      "cell_type": "markdown",
      "source": "## Information about the  Dataset :\nIn our dataset, we provide detailed information on the types of attributes for each of the 14 columns, By clearly defining the type of each attribute, we ensure a comprehensive understanding of the data structure. This clarity is instrumental in facilitating more effective and efficient analysis, allowing for better insights and informed decision-making based on the data.\n\n1.Number of the attributes(columns): 14.\n\n2.Number of the objects(raws):1000\n\n3.The Class label: The patient's diabetes disease class may be Diabetic, Non-Diabetic, or Predict-Diabetic.\n\n4.The Attributes type below:\n\nID = Nominal and Integer\n\nNo_Pation = Numeric and Integer\n\nGender = Binary\n\nAGE = Numeric and Integer\n\nUrea = Numeric and float\n\nCr = Numeric and Integer\n\nHbA1c = Numeric and float\n\nChol = Numeric and float\n\nTG = Numeric and float\n\nHDL = Numeric and float\n\nLDL = Numeric and float\n\nVLDL = Numeric and float\n\nBMI = Numeric and Integer\n\nCLASS = Ordinal\n\n",
      "metadata": {}
    },
    {
      "cell_type": "code",
      "source": "import pandas as pd \ndataDiabetes = pd.read_csv('Dataset/Diabetes.csv')\ndf=pd.DataFrame(dataDiabetes)",
      "metadata": {
        "trusted": true
      },
      "outputs": [],
      "execution_count": 16
    },
    {
      "cell_type": "code",
      "source": "#print number of the rows :\nprint('The number of the rows (attributes):')\nrows=df.shape[0]\nprint(rows)",
      "metadata": {
        "trusted": true
      },
      "outputs": [
        {
          "name": "stdout",
          "text": "The number of the rows (attributes):\n1000\n",
          "output_type": "stream"
        }
      ],
      "execution_count": 17
    },
    {
      "cell_type": "code",
      "source": "#print the number of the columns\nprint('The number of the columns (objects):')\ncolumns=df.shape[1]\nprint(columns)",
      "metadata": {
        "trusted": true
      },
      "outputs": [
        {
          "name": "stdout",
          "text": "The number of the columns (objects):\n14\n",
          "output_type": "stream"
        }
      ],
      "execution_count": 18
    },
    {
      "cell_type": "code",
      "source": "#print information by code\nprint('Information about dataset:')\nprint(df.info)",
      "metadata": {
        "trusted": true
      },
      "outputs": [
        {
          "name": "stdout",
          "text": "Information about dataset:\n<bound method DataFrame.info of       ID  No_Pation Gender  AGE  Urea  Cr  HbA1c  Chol   TG  HDL  LDL  VLDL  \\\n0    502      17975      F   50   4.7  46    4.9   4.2  0.9  2.4  1.4   0.5   \n1    735      34221      M   26   4.5  62    4.9   3.7  1.4  1.1  2.1   0.6   \n2    420      47975      F   50   4.7  46    4.9   4.2  0.9  2.4  1.4   0.5   \n3    680      87656      F   50   4.7  46    4.9   4.2  0.9  2.4  1.4   0.5   \n4    504      34223      M   33   7.1  46    4.9   4.9  1.0  0.8  2.0   0.4   \n..   ...        ...    ...  ...   ...  ..    ...   ...  ...  ...  ...   ...   \n995  200     454317      M   71  11.0  97    7.0   7.5  1.7  1.2  1.8   0.6   \n996  671     876534      M   31   3.0  60   12.3   4.1  2.2  0.7  2.4  15.4   \n997  669      87654      M   30   7.1  81    6.7   4.1  1.1  1.2  2.4   8.1   \n998   99      24004      M   38   5.8  59    6.7   5.3  2.0  1.6  2.9  14.0   \n999  248      24054      M   54   5.0  67    6.9   3.8  1.7  1.1  3.0   0.7   \n\n      BMI CLASS  \n0    24.0     N  \n1    23.0     N  \n2    24.0     N  \n3    24.0     N  \n4    21.0     N  \n..    ...   ...  \n995  30.0     Y  \n996  37.2    Y   \n997  27.4    Y   \n998  40.5    Y   \n999  33.0    Y   \n\n[1000 rows x 14 columns]>\n",
          "output_type": "stream"
        }
      ],
      "execution_count": 19
    },
    {
      "cell_type": "code",
      "source": "# Print the data types of each attribute(column)\nprint('Data types of each attribute:')\nprint(df.dtypes)",
      "metadata": {
        "trusted": true
      },
      "outputs": [
        {
          "name": "stdout",
          "text": "Data types of each attribute:\nID             int64\nNo_Pation      int64\nGender        object\nAGE            int64\nUrea         float64\nCr             int64\nHbA1c        float64\nChol         float64\nTG           float64\nHDL          float64\nLDL          float64\nVLDL         float64\nBMI          float64\nCLASS         object\ndtype: object\n",
          "output_type": "stream"
        }
      ],
      "execution_count": 22
    },
    {
      "cell_type": "code",
      "source": "# Save the data frame as a csv file\ndf.to_csv(\"DataFrame.csv\") ",
      "metadata": {
        "trusted": true
      },
      "outputs": [],
      "execution_count": 23
    }
  ]
}